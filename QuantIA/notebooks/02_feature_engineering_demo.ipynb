{
  "cells": [
    {
      "cell_type": "markdown",
      "metadata": {},
      "source": [
        "# Demo del Feature Engineering\n",
        "\n",
        "Este notebook demuestra el sistema completo de feature engineering del sistema de trading cuantitativo.\n",
        "\n",
        "## Objetivos\n",
        "- Crear features técnicos robustos\n",
        "- Implementar features estadísticos avanzados\n",
        "- Desarrollar features cross-asset\n",
        "- Validar calidad de features\n",
        "- Analizar importancia de features\n"
      ]
    },
    {
      "cell_type": "code",
      "execution_count": null,
      "metadata": {},
      "outputs": [],
      "source": [
        "# Importar librerías necesarias\n",
        "import sys\n",
        "import os\n",
        "sys.path.append('..')\n",
        "\n",
        "import pandas as pd\n",
        "import numpy as np\n",
        "import matplotlib.pyplot as plt\n",
        "import seaborn as sns\n",
        "from datetime import datetime, timedelta\n",
        "import warnings\n",
        "warnings.filterwarnings('ignore')\n",
        "\n",
        "# Importar módulos del sistema\n",
        "from src.features.engineering import FeatureEngineer\n",
        "from src.data.pipeline import DataPipeline\n",
        "from src.utils.config import load_config\n",
        "from src.utils.logger import setup_logging\n",
        "\n",
        "# Configurar logging\n",
        "setup_logging(log_level=\"INFO\")\n",
        "\n",
        "# Configurar matplotlib\n",
        "plt.style.use('seaborn-v0_8')\n",
        "sns.set_palette(\"husl\")\n"
      ]
    }
  ],
  "metadata": {
    "language_info": {
      "name": "python"
    }
  },
  "nbformat": 4,
  "nbformat_minor": 2
}
