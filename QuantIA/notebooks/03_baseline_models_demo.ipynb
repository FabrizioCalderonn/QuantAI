{
  "cells": [
    {
      "cell_type": "markdown",
      "metadata": {},
      "source": [
        "# Demo de Modelos Baseline\n",
        "\n",
        "Este notebook demuestra el entrenamiento y evaluación de modelos baseline transparentes para el sistema de trading cuantitativo.\n",
        "\n",
        "## Objetivos\n",
        "- Entrenar modelos de momentum, mean-reversion e híbrido\n",
        "- Evaluar performance con métricas de trading\n",
        "- Comparar modelos baseline\n",
        "- Generar señales de trading\n",
        "- Validar robustez con cross-validation\n"
      ]
    },
    {
      "cell_type": "code",
      "execution_count": null,
      "metadata": {},
      "outputs": [],
      "source": [
        "# Importar librerías necesarias\n",
        "import sys\n",
        "import os\n",
        "sys.path.append('..')\n",
        "\n",
        "import pandas as pd\n",
        "import numpy as np\n",
        "import matplotlib.pyplot as plt\n",
        "import seaborn as sns\n",
        "from datetime import datetime, timedelta\n",
        "import warnings\n",
        "warnings.filterwarnings('ignore')\n",
        "\n",
        "# Importar módulos del sistema\n",
        "from src.models.trainer import ModelTrainer\n",
        "from src.models.baseline import MomentumModel, MeanReversionModel, HybridModel\n",
        "from src.features.engineering import FeatureEngineer\n",
        "from src.utils.config import load_config\n",
        "from src.utils.logger import setup_logging\n",
        "\n",
        "# Configurar logging\n",
        "setup_logging(log_level=\"INFO\")\n",
        "\n",
        "# Configurar matplotlib\n",
        "plt.style.use('seaborn-v0_8')\n",
        "sns.set_palette(\"husl\")\n"
      ]
    }
  ],
  "metadata": {
    "language_info": {
      "name": "python"
    }
  },
  "nbformat": 4,
  "nbformat_minor": 2
}
