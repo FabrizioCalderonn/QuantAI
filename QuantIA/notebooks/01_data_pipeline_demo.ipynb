{
  "cells": [
    {
      "cell_type": "markdown",
      "metadata": {},
      "source": [
        "# Demo del Pipeline de Datos\n",
        "\n",
        "Este notebook demuestra el funcionamiento del pipeline de datos del sistema de trading cuantitativo.\n",
        "\n",
        "## Objetivos\n",
        "- Descargar datos históricos de múltiples instrumentos\n",
        "- Validar y limpiar los datos\n",
        "- Calcular indicadores técnicos básicos\n",
        "- Generar manifiesto de datos\n",
        "- Demostrar la robustez del sistema\n"
      ]
    },
    {
      "cell_type": "code",
      "execution_count": null,
      "metadata": {},
      "outputs": [],
      "source": [
        "# Importar librerías necesarias\n",
        "import sys\n",
        "import os\n",
        "sys.path.append('..')\n",
        "\n",
        "import pandas as pd\n",
        "import numpy as np\n",
        "import matplotlib.pyplot as plt\n",
        "import seaborn as sns\n",
        "from datetime import datetime, timedelta\n",
        "import warnings\n",
        "warnings.filterwarnings('ignore')\n",
        "\n",
        "# Importar módulos del sistema\n",
        "from src.data.pipeline import DataPipeline\n",
        "from src.utils.config import load_config, validate_config\n",
        "from src.utils.logger import setup_logging\n",
        "\n",
        "# Configurar logging\n",
        "setup_logging(log_level=\"INFO\")\n",
        "\n",
        "# Configurar matplotlib\n",
        "plt.style.use('seaborn-v0_8')\n",
        "sns.set_palette(\"husl\")\n"
      ]
    }
  ],
  "metadata": {
    "language_info": {
      "name": "python"
    }
  },
  "nbformat": 4,
  "nbformat_minor": 2
}
